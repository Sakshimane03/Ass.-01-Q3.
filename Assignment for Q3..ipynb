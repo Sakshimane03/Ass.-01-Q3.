{
 "cells": [
  {
   "cell_type": "markdown",
   "id": "35d4496b",
   "metadata": {},
   "source": [
    "# ` Write A Python Program To Count The Number Of Even And Odd Numbers From A Series Of Numbers.`"
   ]
  },
  {
   "cell_type": "code",
   "execution_count": null,
   "id": "f03c55da",
   "metadata": {},
   "outputs": [],
   "source": [
    "l= int(input())\n",
    "even_count = 0\n",
    "odd_count = 0\n",
    "for i in range(1,l+1):\n",
    "    if i%2 == 0:\n",
    "        even_count += 1\n",
    "    elif i%2 != 0:\n",
    "        odd_count +=1\n",
    "print(\"even\",\"=\", even_count)\n",
    "print(\"odd\",\"=\",odd_count)\n",
    "    "
   ]
  },
  {
   "cell_type": "code",
   "execution_count": null,
   "id": "aacb8c72",
   "metadata": {},
   "outputs": [],
   "source": []
  }
 ],
 "metadata": {
  "kernelspec": {
   "display_name": "Python 3 (ipykernel)",
   "language": "python",
   "name": "python3"
  },
  "language_info": {
   "codemirror_mode": {
    "name": "ipython",
    "version": 3
   },
   "file_extension": ".py",
   "mimetype": "text/x-python",
   "name": "python",
   "nbconvert_exporter": "python",
   "pygments_lexer": "ipython3",
   "version": "3.10.1"
  }
 },
 "nbformat": 4,
 "nbformat_minor": 5
}
